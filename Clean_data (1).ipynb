{
 "cells": [
  {
   "cell_type": "markdown",
   "metadata": {},
   "source": [
    "# Extract the dataset to the file path"
   ]
  },
  {
   "cell_type": "code",
   "execution_count": 45,
   "metadata": {},
   "outputs": [],
   "source": [
    "# Helper code block to extract the zip files\n",
    "import zipfile\n",
    "with zipfile.ZipFile(\"Training Dataset.zip\", 'r') as zip_ref:\n",
    "    zip_ref.extractall(\"train_dataset\")"
   ]
  },
  {
   "cell_type": "markdown",
   "metadata": {},
   "source": [
    "# Library imports"
   ]
  },
  {
   "cell_type": "code",
   "execution_count": 1,
   "metadata": {},
   "outputs": [],
   "source": [
    "import pandas as pd \n",
    "import numpy as np \n",
    "import matplotlib.pyplot as plt"
   ]
  },
  {
   "cell_type": "markdown",
   "metadata": {},
   "source": [
    "# Pre-process the data"
   ]
  },
  {
   "cell_type": "code",
   "execution_count": 63,
   "metadata": {},
   "outputs": [],
   "source": [
    "# Lists to store the image data as well to store the image labels\n",
    "data = []\n",
    "labels = []"
   ]
  },
  {
   "cell_type": "code",
   "execution_count": 48,
   "metadata": {},
   "outputs": [],
   "source": [
    "# Main preprocesser method\n",
    "def prepare_data(character):\n",
    "    \n",
    "    # This loop runs for all the 1000 files for the character\n",
    "    for i in range(1,1001):\n",
    "        a = pd.read_csv(\"train_dataset/Training Dataset/character_\"+str(character)+\"/\"+str(i)+\".csv\", header=None)\n",
    "        for i in range(a.shape[0]):\n",
    "            median = a[i].median()\n",
    "            \n",
    "            # If the column has a NAN value, the execution will pass on the try block\n",
    "            try:\n",
    "                a[i].fillna(value=median, inplace=True)\n",
    "            \n",
    "            # In case the column did not have a NAN value, execution just skips over to the next column\n",
    "            except:\n",
    "                continue\n",
    "        \n",
    "        # Convert the dataframe into a numpy array of the same dimensions and flatten it out\n",
    "        a = a.to_numpy().flatten()\n",
    "        \n",
    "        \n",
    "        # Append the data to the data list and its corresponding label to the labels list\n",
    "        data.append(a)\n",
    "        labels.append(character+1)"
   ]
  },
  {
   "cell_type": "code",
   "execution_count": 49,
   "metadata": {},
   "outputs": [],
   "source": [
    "# Run the above preprocessor methos for all characters. (Total runs=10000)\n",
    "for i in range(10):\n",
    "    prepare_data(i)"
   ]
  },
  {
   "cell_type": "code",
   "execution_count": 52,
   "metadata": {},
   "outputs": [],
   "source": [
    "# Convert the list to a numpy array for efficiency\n",
    "data_array = np.asarray(data)"
   ]
  },
  {
   "cell_type": "code",
   "execution_count": 53,
   "metadata": {},
   "outputs": [
    {
     "data": {
      "text/plain": [
       "(10000, 784)"
      ]
     },
     "execution_count": 53,
     "metadata": {},
     "output_type": "execute_result"
    }
   ],
   "source": [
    "# The final array contains all 10000 images flattened to a (1,784) vector.\n",
    "data_array.shape"
   ]
  },
  {
   "cell_type": "code",
   "execution_count": 60,
   "metadata": {},
   "outputs": [],
   "source": [
    "# Convert the numpy array to a dataframe and add the labels as a column to the dataset\n",
    "df = pd.DataFrame(data_array)\n",
    "df[\"Labels\"] = labels"
   ]
  },
  {
   "cell_type": "code",
   "execution_count": null,
   "metadata": {},
   "outputs": [],
   "source": [
    "# Export the preprocessed dataset to a file named 'median_processed,csv' in the notebook's path\n",
    "df.to_csv('median_processed.csv', index=False)"
   ]
  }
 ],
 "metadata": {
  "kernelspec": {
   "display_name": "Python 3",
   "language": "python",
   "name": "python3"
  },
  "language_info": {
   "codemirror_mode": {
    "name": "ipython",
    "version": 3
   },
   "file_extension": ".py",
   "mimetype": "text/x-python",
   "name": "python",
   "nbconvert_exporter": "python",
   "pygments_lexer": "ipython3",
   "version": "3.8.3"
  }
 },
 "nbformat": 4,
 "nbformat_minor": 4
}
